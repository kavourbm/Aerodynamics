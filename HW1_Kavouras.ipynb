{
 "cells": [
  {
   "attachments": {},
   "cell_type": "markdown",
   "metadata": {},
   "source": [
    "Aerodynamics Assignment 1\n",
    "Ben Kavouras"
   ]
  },
  {
   "attachments": {},
   "cell_type": "markdown",
   "metadata": {},
   "source": [
    "1.1\n",
    "\n",
    "For most gases at standard or near standard conditions, the relationship among pressure, density, and temperature is given by the perfect gas equation of state: $ p = \\rho RT $, where $ R $ is the specific gas constant. For air at near standard conditions, $ R = 287 \\ J/(kg \\cdot K) $ in the International System of Units and $ R = 1716 \\ ft \\cdot lb/(slug \\cdot °R) $ in the English Engineering System of Units. (More details on the perfect gas equation of state are given in Chapter 7.) Using the above information, consider the following two cases:\n",
    "\n",
    "a.  At a given point on the wing of a Boeing 727, the\n",
    "    pressure and temperature of the air are $ 1.9 \\times 10^4 \\ N/m^2 $ and $ 203 \\ K $, respectively. Calculate the density at this point\n",
    "\n",
    "b.  At a point in the test section of a supersonic wind tunnel,\n",
    "    the pressure and density of the air are $ 1058 \\ lb/ft^2 $ and $ 1.23 \\times 10^-3 \\ slug/ft^3 $, respectively. Calculate the temperature at this point."
   ]
  },
  {
   "attachments": {},
   "cell_type": "markdown",
   "metadata": {},
   "source": [
    "a. \n",
    "$ \\\\ T = 203 \\ K \\\\ p = 1.9 \\times 10^4 \\ N/m^2 = 1.9 \\times 10^4 \\ pa \\\\ R = 287 \\ J/(kg \\cdot K) \\\\ $\n",
    "Solve for $ \\rho \\\\ p = \\rho RT \\\\ \\rho = p/RT \\\\ \\rho = \\frac{1.9 \\times 10^4 \\ N/m^2}{287 \\ J/(kg \\cdot K) \\cdot 203 \\ K} \\\\ \\rho = .326 \\ kg/m^3 \\\\  \\\\ $\n",
    "b.\n",
    "$ \\\\ p = 1058 \\ lb_f / ft^2 \\\\ \\rho = 1.23 \\times 10^-3 \\ slug/ft^3 \\\\ R = 1716 ft \\cdot lb_f / (slug * R) \\\\ $\n",
    "Solve for $ T \\\\ p = \\rho RT \\\\ T = p / \\rho R \\\\ T = \\frac{1058 \\ lb/ft^2}{1.23 \\times 10^-3 \\ slug/ft^3 \\cdot 1716 ft \\cdot lb_f / (slug * R)} \\\\ T = 501.26 \\ R$\n"
   ]
  },
  {
   "attachments": {},
   "cell_type": "markdown",
   "metadata": {},
   "source": [
    "1.3\n",
    "\n",
    "Consider an infinitely this plate of chord $ c $ at an angle of attack $ \\alpha $ in a supersonic flow. The pressures on the upper and lower surfaces are different but constant over each surface; that is, $p_u (s) = c_1 $ and $ p_l (s) = c_2 $, where $ c_1 $ and $ c_2 $ are constants and $ c_2 > c_1 $. Ignoring the shear stress, calculate the location of the center of pressure."
   ]
  },
  {
   "attachments": {},
   "cell_type": "markdown",
   "metadata": {},
   "source": [
    "Solving for $ x_cp \\\\ x_cp = - M'_{LE} / N' \\\\ M'_LE = \\int_{LE}^{TE} \\ (p_u - p_t)xdx - \\int_{LE}^{TE} (\\tau _u + \\tau _t)xdy + \\int$"
   ]
  }
 ],
 "metadata": {
  "kernelspec": {
   "display_name": "base",
   "language": "python",
   "name": "python3"
  },
  "language_info": {
   "name": "python",
   "version": "3.9.13 (main, Aug 25 2022, 23:26:10) \n[GCC 11.2.0]"
  },
  "orig_nbformat": 4,
  "vscode": {
   "interpreter": {
    "hash": "f26c5988757f4ae4eb6ac8f179a30209cca927f29288adec65681e3ffa01b923"
   }
  }
 },
 "nbformat": 4,
 "nbformat_minor": 2
}
